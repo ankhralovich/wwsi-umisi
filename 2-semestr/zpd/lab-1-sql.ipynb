{
 "cells": [
  {
   "cell_type": "markdown",
   "id": "ec67fdb8",
   "metadata": {},
   "source": [
    "# Laboratorium #1: zapytania do bazy SQL"
   ]
  },
  {
   "cell_type": "markdown",
   "id": "5c727ca4",
   "metadata": {},
   "source": [
    "## Zadanie #1: "
   ]
  },
  {
   "cell_type": "markdown",
   "id": "49e5d0b2",
   "metadata": {},
   "source": [
    "W bazie danych TRPrzychodnia zrobić zestawienie, które dla każdego dnia maja 2020 policzy liczbę odbytych wizyt, sumę opłat za wizyty oraz ilu lekarzy obsługiwało te wizyty."
   ]
  },
  {
   "cell_type": "code",
   "execution_count": null,
   "id": "ba5db64c",
   "metadata": {
    "vscode": {
     "languageId": "sql"
    }
   },
   "outputs": [],
   "source": [
    "WITH dni_w_maju AS (\n",
    "    SELECT CAST('2020-05-01' AS date) AS Dzien\n",
    "    UNION ALL\n",
    "    SELECT DATEADD(DAY, 1, Dzien)\n",
    "    FROM dni_w_maju\n",
    "    WHERE Dzien < '2020-05-31'\n",
    "),\n",
    "liczba_wizyt AS (\n",
    "    SELECT \n",
    "        CAST(W.DataWizyty AS date) AS Dzien,\n",
    "        COUNT(*) AS LiczbaWizyt,\n",
    "        SUM(W.Oplata) AS SumaOplat,\n",
    "        COUNT(DISTINCT W.IdLekarza) AS LiczbaLekarzy\n",
    "    FROM [TRPrzychodnia].[dbo].[Wizyty] AS W\n",
    "    WHERE W.DataWizyty >= '2020-05-01'\n",
    "      AND W.DataWizyty  < '2020-06-01'\n",
    "    GROUP BY CAST(W.DataWizyty AS date)\n",
    ")\n",
    "SELECT\n",
    "    d.Dzien,\n",
    "    COALESCE(v.LiczbaWizyt,   0) AS LiczbaWizyt,\n",
    "    COALESCE(v.SumaOplat,     0) AS SumaOplat,\n",
    "    COALESCE(v.LiczbaLekarzy, 0) AS LiczbaLekarzy\n",
    "FROM dni_w_maju AS d\n",
    "LEFT JOIN liczba_wizyt AS v\n",
    "       ON d.Dzien = v.Dzien\n",
    "ORDER BY d.Dzien; "
   ]
  },
  {
   "cell_type": "markdown",
   "id": "3d61d936",
   "metadata": {},
   "source": [
    "# Zadanie #2"
   ]
  },
  {
   "cell_type": "markdown",
   "id": "30906a44",
   "metadata": {},
   "source": [
    "W bazie danych TRPrzychodnia zrobić zestawienie zawierające następujące dane: nazwisko i imię lekarza , liczbę wizyt oraz sumę opłat za wizyty zrealizowane w 30 dniach, dla  których w roku 2021 osiągnięto największe  sumaryczne  dzienne wartości opłat za wizyty. W zestawieniu uwzględnić tych lekarzy którzy osiągnęli dwie największe wartości sumy opłat."
   ]
  },
  {
   "cell_type": "code",
   "execution_count": null,
   "id": "c2e9de1a",
   "metadata": {
    "vscode": {
     "languageId": "sql"
    }
   },
   "outputs": [],
   "source": [
    "-- na początku szukamy top-30 dni:\n",
    "\n",
    "WITH wizyty_cte AS (\n",
    "    SELECT\n",
    "        CAST(W.DataWizyty AS date) AS DataWizyty,\n",
    "        SUM(W.Oplata) AS SumaOplat\n",
    "    FROM [TRPrzychodnia].[dbo].[Wizyty] AS W\n",
    "    WHERE YEAR(W.DataWizyty) = 2021\n",
    "    GROUP BY CAST(W.DataWizyty AS date)\n",
    "),\n",
    "top_wizyt as (SELECT TOP (30)\n",
    "    w.DataWizyty\n",
    "FROM wizyty_cte AS w\n",
    "ORDER BY w.SumaOplat DESC)\n",
    "select * from top_wizyt\n",
    "order by DataWizyty desc;"
   ]
  },
  {
   "cell_type": "code",
   "execution_count": null,
   "id": "70f3ba0a",
   "metadata": {
    "vscode": {
     "languageId": "sql"
    }
   },
   "outputs": [],
   "source": [
    "-- inner join żeby pobrać dane dot. lekarzy co przyjmowali  tego dnia\n",
    "WITH wizyty_cte AS (\n",
    "    SELECT\n",
    "        CAST(W.DataWizyty AS date) AS DataWizyty,\n",
    "        SUM(W.Oplata) AS SumaOplat\n",
    "    FROM [TRPrzychodnia].[dbo].[Wizyty] AS W\n",
    "    WHERE YEAR(W.DataWizyty) = 2021\n",
    "    GROUP BY CAST(W.DataWizyty AS date)\n",
    "),\n",
    "top_wizyt as (SELECT TOP (30)\n",
    "    w.DataWizyty\n",
    "FROM wizyty_cte AS w\n",
    "ORDER BY w.SumaOplat DESC),\n",
    "top_lekarzy as (\n",
    "\tSELECT \n",
    "\t\tw.IdLekarza,\n",
    "\t\tw.DataWizyty,\n",
    "\t\tCOUNT(*) AS LiczbaWizyt,\n",
    "\t\tSUM(w.Oplata) AS SumaPerLekarz\n",
    "\tFROM [TRPrzychodnia].[dbo].[Wizyty] AS W\n",
    "\tINNER JOIN top_wizyt AS t\n",
    "\tON CAST(w.DataWizyty AS date) = t.DataWizyty\n",
    "\tGROUP BY w.IdLekarza, w.DataWizyty\n",
    ")\n",
    "select * from top_lekarzy"
   ]
  },
  {
   "cell_type": "code",
   "execution_count": null,
   "id": "a91a9fe7",
   "metadata": {
    "vscode": {
     "languageId": "sql"
    }
   },
   "outputs": [],
   "source": [
    "-- dense\n",
    "WITH wizyty_cte AS (\n",
    "    SELECT\n",
    "        CAST(W.DataWizyty AS date) AS DataWizyty,\n",
    "        SUM(W.Oplata) AS SumaOplat\n",
    "    FROM [TRPrzychodnia].[dbo].[Wizyty] AS W\n",
    "    WHERE YEAR(W.DataWizyty) = 2021\n",
    "    GROUP BY CAST(W.DataWizyty AS date)\n",
    "),\n",
    "top_wizyt as (SELECT TOP (30)\n",
    "    w.DataWizyty\n",
    "FROM wizyty_cte AS w\n",
    "ORDER BY w.SumaOplat DESC),\n",
    "lekarze_wszyzcy as (\n",
    "\tSELECT \n",
    "\t\tw.IdLekarza,\n",
    "\t\tw.DataWizyty,\n",
    "\t\tCOUNT(*) AS LiczbaWizyt,\n",
    "\t\tSUM(w.Oplata) AS SumaPerLekarz\n",
    "\tFROM [TRPrzychodnia].[dbo].[Wizyty] AS W\n",
    "\tINNER JOIN top_wizyt AS t\n",
    "\tON CAST(w.DataWizyty AS date) = t.DataWizyty\n",
    "\tGROUP BY w.IdLekarza, w.DataWizyty\n",
    "),\n",
    "top_lekarzy as (\n",
    "\tSELECT \n",
    "\t     IdLekarza,\n",
    "\t\t SUM(SumaPerLekarz) AS SumaOplat\n",
    "\tFROM lekarze_wszyzcy\n",
    "\tGROUP BY IdLekarza\n",
    ")\n",
    "SELECT TOP (2)\n",
    "    topl.IdLekarza,\n",
    "    lek.Nazwisko,\n",
    "    lek.Imie,\n",
    "    topl.SumaOplat\n",
    "FROM top_lekarzy AS topl\n",
    "LEFT JOIN [TRPrzychodnia].[dbo].[Lekarze]  AS lek\n",
    "ON topl.IdLekarza = lek.IdLekarza\n",
    "ORDER BY topl.SumaOplat DESC;"
   ]
  },
  {
   "cell_type": "markdown",
   "id": "bdf48b88",
   "metadata": {},
   "source": [
    "# Zadanie #3"
   ]
  },
  {
   "cell_type": "markdown",
   "id": "b25c0d47",
   "metadata": {},
   "source": [
    "W bazie danych TRUczelnia zrobić  zestawienie zawierające dane wykładowców(Nazwisko, imię i Nip), którzy wystawili  co najmniej 5 ocen przez trzy dni z rzędu."
   ]
  },
  {
   "cell_type": "code",
   "execution_count": null,
   "id": "fe16fce9",
   "metadata": {
    "vscode": {
     "languageId": "sql"
    }
   },
   "outputs": [],
   "source": [
    "-- najpierw eliminujemy tych co nie wystawiali ocen 3 dni z rzędu\n",
    "WITH oceny_per_dzien AS (\n",
    "    SELECT \n",
    "        o.IdWykladowcy,\n",
    "        CAST(o.DataOceny AS date) AS Dzien,\n",
    "        COUNT(*) AS LiczbaOcen\n",
    "    FROM [TRUczelnia].[dbo].[Oceny] AS o\n",
    "    GROUP BY o.IdWykladowcy, CAST(o.DataOceny AS date)\n",
    "),\n",
    "dni_z_rzedu AS (\n",
    "    SELECT\n",
    "        IdWykladowcy,\n",
    "        Dzien as Dzien3,\n",
    "        LAG(Dzien, 1) OVER (PARTITION BY IdWykladowcy ORDER BY Dzien) AS Dzien2,\n",
    "        LAG(Dzien, 2) OVER (PARTITION BY IdWykladowcy ORDER BY Dzien) AS Dzien1\n",
    "    FROM oceny_per_dzien\n",
    ")\n",
    "SELECT * from dni_z_rzedu;"
   ]
  },
  {
   "cell_type": "code",
   "execution_count": null,
   "id": "be72dce3",
   "metadata": {
    "vscode": {
     "languageId": "sql"
    }
   },
   "outputs": [],
   "source": [
    "-- wszyscy wykładowcy co wystawili >5 ocen w ciągu 3 dni\n",
    "WITH oceny_per_dzien AS (\n",
    "    SELECT \n",
    "        o.IdWykladowcy,\n",
    "        CAST(o.DataOceny AS date) AS Dzien,\n",
    "        COUNT(*) AS LiczbaOcen\n",
    "    FROM [TRUczelnia].[dbo].[Oceny] AS o\n",
    "    GROUP BY o.IdWykladowcy, CAST(o.DataOceny AS date)\n",
    "),\n",
    "dni_z_rzedu AS (\n",
    "    SELECT\n",
    "        IdWykladowcy,\n",
    "        Dzien as Dzien3,\n",
    "        LAG(Dzien, 1) OVER (PARTITION BY IdWykladowcy ORDER BY Dzien) AS Dzien2,\n",
    "        LAG(Dzien, 2) OVER (PARTITION BY IdWykladowcy ORDER BY Dzien) AS Dzien1\n",
    "    FROM oceny_per_dzien\n",
    "),\n",
    "suma_ocen as \n",
    "(SELECT\n",
    "    dzr.IdWykladowcy,\n",
    "    dzr.Dzien3,                      \n",
    "    dzr.Dzien2,\n",
    "    dzr.Dzien1,\n",
    "    opdNow.LiczbaOcen   AS OcenyDniaAktualnego,\n",
    "    opdPrev1.LiczbaOcen AS OcenyDniaPoprzedniego1,\n",
    "    opdPrev2.LiczbaOcen AS OcenyDniaPoprzedniego2,\n",
    "    (opdNow.LiczbaOcen + opdPrev1.LiczbaOcen + opdPrev2.LiczbaOcen) AS SumaOceny3Dni\n",
    "FROM dni_z_rzedu AS dzr\n",
    "JOIN oceny_per_dzien AS opdNow\n",
    "    ON  opdNow.IdWykladowcy = dzr.IdWykladowcy\n",
    "    AND opdNow.Dzien        = dzr.Dzien3\n",
    "JOIN oceny_per_dzien AS opdPrev1\n",
    "    ON  opdPrev1.IdWykladowcy = dzr.IdWykladowcy\n",
    "    AND opdPrev1.Dzien        = dzr.Dzien2\n",
    "JOIN oceny_per_dzien AS opdPrev2\n",
    "    ON  opdPrev2.IdWykladowcy = dzr.IdWykladowcy\n",
    "    AND opdPrev2.Dzien        = dzr.Dzien1\n",
    "WHERE dzr.Dzien2 = DATEADD(DAY, -1, dzr.Dzien3)\n",
    "  AND dzr.Dzien1 = DATEADD(DAY, -2, dzr.Dzien3))\n",
    "select * from suma_ocen\n",
    "where SumaOceny3Dni > 5;"
   ]
  },
  {
   "cell_type": "code",
   "execution_count": null,
   "id": "011fc7ce",
   "metadata": {
    "vscode": {
     "languageId": "sql"
    }
   },
   "outputs": [],
   "source": [
    "-- final touch\n",
    "WITH oceny_per_dzien AS (\n",
    "    SELECT \n",
    "        o.IdWykladowcy,\n",
    "        CAST(o.DataOceny AS date) AS Dzien,\n",
    "        COUNT(*) AS LiczbaOcen\n",
    "    FROM [TRUczelnia].[dbo].[Oceny] AS o\n",
    "    GROUP BY o.IdWykladowcy, CAST(o.DataOceny AS date)\n",
    "),\n",
    "dni_z_rzedu AS (\n",
    "    SELECT\n",
    "        IdWykladowcy,\n",
    "        Dzien as Dzien3,\n",
    "        LAG(Dzien, 1) OVER (PARTITION BY IdWykladowcy ORDER BY Dzien) AS Dzien2,\n",
    "        LAG(Dzien, 2) OVER (PARTITION BY IdWykladowcy ORDER BY Dzien) AS Dzien1\n",
    "    FROM oceny_per_dzien\n",
    "),\n",
    "suma_ocen as \n",
    "(SELECT\n",
    "    dzr.IdWykladowcy,\n",
    "    dzr.Dzien3,                      \n",
    "    dzr.Dzien2,\n",
    "    dzr.Dzien1,\n",
    "    opdNow.LiczbaOcen   AS OcenyDniaAktualnego,\n",
    "    opdPrev1.LiczbaOcen AS OcenyDniaPoprzedniego1,\n",
    "    opdPrev2.LiczbaOcen AS OcenyDniaPoprzedniego2,\n",
    "    (opdNow.LiczbaOcen + opdPrev1.LiczbaOcen + opdPrev2.LiczbaOcen) AS SumaOceny3Dni\n",
    "FROM dni_z_rzedu AS dzr\n",
    "JOIN oceny_per_dzien AS opdNow\n",
    "    ON  opdNow.IdWykladowcy = dzr.IdWykladowcy\n",
    "    AND opdNow.Dzien        = dzr.Dzien3\n",
    "JOIN oceny_per_dzien AS opdPrev1\n",
    "    ON  opdPrev1.IdWykladowcy = dzr.IdWykladowcy\n",
    "    AND opdPrev1.Dzien        = dzr.Dzien2\n",
    "JOIN oceny_per_dzien AS opdPrev2\n",
    "    ON  opdPrev2.IdWykladowcy = dzr.IdWykladowcy\n",
    "    AND opdPrev2.Dzien        = dzr.Dzien1\n",
    "WHERE dzr.Dzien2 = DATEADD(DAY, -1, dzr.Dzien3)\n",
    "  AND dzr.Dzien1 = DATEADD(DAY, -2, dzr.Dzien3))\n",
    "SELECT DISTINCT wykl.IdWykladowcy,\n",
    "\twykl.Imie,\n",
    "\twykl.Nazwisko,\n",
    "\twykl.Nip\n",
    "FROM suma_ocen\n",
    "JOIN [TRUczelnia].[dbo].[Wykladowcy] AS wykl\n",
    "on suma_ocen.IdWykladowcy = wykl.IdWykladowcy\n",
    "WHERE SumaOceny3Dni > 5;\n"
   ]
  }
 ],
 "metadata": {
  "kernelspec": {
   "display_name": "base",
   "language": "python",
   "name": "python3"
  },
  "language_info": {
   "codemirror_mode": {
    "name": "ipython",
    "version": 3
   },
   "file_extension": ".py",
   "mimetype": "text/x-python",
   "name": "python",
   "nbconvert_exporter": "python",
   "pygments_lexer": "ipython3",
   "version": "3.10.16"
  }
 },
 "nbformat": 4,
 "nbformat_minor": 5
}
