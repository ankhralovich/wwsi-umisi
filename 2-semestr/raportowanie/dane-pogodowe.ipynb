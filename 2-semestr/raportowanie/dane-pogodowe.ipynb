{
 "cells": [
  {
   "cell_type": "markdown",
   "id": "2746b91d",
   "metadata": {},
   "source": [
    "# Wizualizacja danych pogodowych"
   ]
  },
  {
   "cell_type": "code",
   "execution_count": 1,
   "id": "d5d675ff",
   "metadata": {},
   "outputs": [],
   "source": [
    "import pandas as pd\n",
    "import seaborn as sns\n",
    "import matplotlib.pyplot as plt\n",
    "from sqlalchemy import create_engine, text\n",
    "import os\n",
    "from dotenv import load_dotenv"
   ]
  },
  {
   "cell_type": "markdown",
   "id": "93c8cc78",
   "metadata": {},
   "source": [
    "## Przygotowanie danych z bazy"
   ]
  },
  {
   "cell_type": "code",
   "execution_count": 2,
   "id": "79b32dcb",
   "metadata": {},
   "outputs": [
    {
     "data": {
      "text/plain": [
       "True"
      ]
     },
     "execution_count": 2,
     "metadata": {},
     "output_type": "execute_result"
    }
   ],
   "source": [
    "load_dotenv()"
   ]
  },
  {
   "cell_type": "code",
   "execution_count": 3,
   "id": "88aa61a0",
   "metadata": {},
   "outputs": [],
   "source": [
    "login = os.getenv(\"LOGIN\")\n",
    "password = os.getenv(\"PASSWORD\")\n",
    "db_host = os.getenv(\"DB_HOST\")\n",
    "port = os.getenv(\"PORT\")\n",
    "database = os.getenv(\"DB_NAME\")"
   ]
  },
  {
   "cell_type": "code",
   "execution_count": null,
   "id": "708258a3",
   "metadata": {},
   "outputs": [],
   "source": [
    "conn_str = (\n",
    "    f\"mssql+pyodbc://{login}:{password}@{db_host},{port}/{database}\"\n",
    "    \"?driver=ODBC+Driver+17+for+SQL+Server\"\n",
    ")"
   ]
  }
 ],
 "metadata": {
  "kernelspec": {
   "display_name": "base",
   "language": "python",
   "name": "python3"
  },
  "language_info": {
   "codemirror_mode": {
    "name": "ipython",
    "version": 3
   },
   "file_extension": ".py",
   "mimetype": "text/x-python",
   "name": "python",
   "nbconvert_exporter": "python",
   "pygments_lexer": "ipython3",
   "version": "3.10.16"
  }
 },
 "nbformat": 4,
 "nbformat_minor": 5
}
