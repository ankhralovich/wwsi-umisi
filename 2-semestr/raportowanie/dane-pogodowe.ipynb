{
 "cells": [
  {
   "cell_type": "markdown",
   "id": "2746b91d",
   "metadata": {},
   "source": [
    "# Wizualizacja danych pogodowych"
   ]
  },
  {
   "cell_type": "code",
   "execution_count": 1,
   "id": "d5d675ff",
   "metadata": {},
   "outputs": [],
   "source": [
    "import pandas as pd\n",
    "import seaborn as sns\n",
    "import matplotlib.pyplot as plt\n",
    "from sqlalchemy import create_engine, text\n",
    "import os\n",
    "from dotenv import load_dotenv\n",
    "import plotly.express as px"
   ]
  },
  {
   "cell_type": "markdown",
   "id": "93c8cc78",
   "metadata": {},
   "source": [
    "## Przygotowanie danych z bazy"
   ]
  },
  {
   "cell_type": "code",
   "execution_count": 2,
   "id": "79b32dcb",
   "metadata": {},
   "outputs": [
    {
     "data": {
      "text/plain": [
       "True"
      ]
     },
     "execution_count": 2,
     "metadata": {},
     "output_type": "execute_result"
    }
   ],
   "source": [
    "load_dotenv()"
   ]
  },
  {
   "cell_type": "code",
   "execution_count": 3,
   "id": "88aa61a0",
   "metadata": {},
   "outputs": [],
   "source": [
    "login = os.getenv(\"LOGIN\")\n",
    "password = os.getenv(\"PASSWORD\")\n",
    "db_host = os.getenv(\"DB_HOST\")\n",
    "port = os.getenv(\"PORT\")\n",
    "database = os.getenv(\"DB_NAME\")"
   ]
  },
  {
   "cell_type": "code",
   "execution_count": 4,
   "id": "708258a3",
   "metadata": {},
   "outputs": [],
   "source": [
    "conn_str = (\n",
    "    f\"mssql+pyodbc://{login}:{password}@{db_host},{port}/{database}\"\n",
    "    \"?driver=ODBC+Driver+17+for+SQL+Server\"\n",
    ")"
   ]
  },
  {
   "cell_type": "code",
   "execution_count": 5,
   "id": "c78635f8",
   "metadata": {},
   "outputs": [],
   "source": [
    "engine = create_engine(conn_str)"
   ]
  },
  {
   "cell_type": "code",
   "execution_count": null,
   "id": "74c3e65d",
   "metadata": {},
   "outputs": [],
   "source": [
    "query_depesze = text(\"\"\"\n",
    "        SELECT Data,  KierunekWiatru, PredkoscWiatru, TemperaturaPowietrza\n",
    "        FROM Synop.dbo.Depesze as depesze\n",
    "        WHERE depesze.Data BETWEEN '2024-01-01' and '2024-12-31'\n",
    "    \"\"\")"
   ]
  },
  {
   "cell_type": "code",
   "execution_count": 7,
   "id": "6eef649e",
   "metadata": {},
   "outputs": [],
   "source": [
    "\n",
    "\n",
    "with engine.connect() as conn:\n",
    "    df_depesze = pd.read_sql(query_depesze, conn)\n"
   ]
  },
  {
   "cell_type": "code",
   "execution_count": 15,
   "id": "bc33bc79",
   "metadata": {},
   "outputs": [],
   "source": [
    "df_srednie_dzienne = (\n",
    "    df_depesze\n",
    "    .groupby('Data', as_index=False)  # grupujemy po kolumnie Data (dzień)\n",
    "    .agg({\n",
    "        'TemperaturaPowietrza': 'mean',\n",
    "        'PredkoscWiatru': 'mean',\n",
    "    })\n",
    "    .rename(columns={\n",
    "        'TemperaturaPowietrza': 'SredniaTemp',\n",
    "        'PredkoscWiatru': 'SredniaPredkoscWiatru'\n",
    "    })\n",
    ")\n"
   ]
  },
  {
   "cell_type": "code",
   "execution_count": 16,
   "id": "b5a1f925",
   "metadata": {},
   "outputs": [
    {
     "data": {
      "text/html": [
       "<div>\n",
       "<style scoped>\n",
       "    .dataframe tbody tr th:only-of-type {\n",
       "        vertical-align: middle;\n",
       "    }\n",
       "\n",
       "    .dataframe tbody tr th {\n",
       "        vertical-align: top;\n",
       "    }\n",
       "\n",
       "    .dataframe thead th {\n",
       "        text-align: right;\n",
       "    }\n",
       "</style>\n",
       "<table border=\"1\" class=\"dataframe\">\n",
       "  <thead>\n",
       "    <tr style=\"text-align: right;\">\n",
       "      <th></th>\n",
       "      <th>Data</th>\n",
       "      <th>SredniaTemp</th>\n",
       "      <th>SredniaPredkoscWiatru</th>\n",
       "    </tr>\n",
       "  </thead>\n",
       "  <tbody>\n",
       "    <tr>\n",
       "      <th>0</th>\n",
       "      <td>2024-01-01</td>\n",
       "      <td>3.033969</td>\n",
       "      <td>2.966808</td>\n",
       "    </tr>\n",
       "    <tr>\n",
       "      <th>1</th>\n",
       "      <td>2024-01-02</td>\n",
       "      <td>2.764544</td>\n",
       "      <td>3.519462</td>\n",
       "    </tr>\n",
       "    <tr>\n",
       "      <th>2</th>\n",
       "      <td>2024-01-03</td>\n",
       "      <td>4.085300</td>\n",
       "      <td>4.560424</td>\n",
       "    </tr>\n",
       "    <tr>\n",
       "      <th>3</th>\n",
       "      <td>2024-01-04</td>\n",
       "      <td>2.640575</td>\n",
       "      <td>4.896286</td>\n",
       "    </tr>\n",
       "    <tr>\n",
       "      <th>4</th>\n",
       "      <td>2024-01-05</td>\n",
       "      <td>-1.219833</td>\n",
       "      <td>3.192067</td>\n",
       "    </tr>\n",
       "  </tbody>\n",
       "</table>\n",
       "</div>"
      ],
      "text/plain": [
       "         Data  SredniaTemp  SredniaPredkoscWiatru\n",
       "0  2024-01-01     3.033969               2.966808\n",
       "1  2024-01-02     2.764544               3.519462\n",
       "2  2024-01-03     4.085300               4.560424\n",
       "3  2024-01-04     2.640575               4.896286\n",
       "4  2024-01-05    -1.219833               3.192067"
      ]
     },
     "execution_count": 16,
     "metadata": {},
     "output_type": "execute_result"
    }
   ],
   "source": [
    "df_srednie_dzienne.head()"
   ]
  },
  {
   "cell_type": "code",
   "execution_count": 17,
   "id": "b31d3652",
   "metadata": {},
   "outputs": [],
   "source": [
    "bins = [0, 2, 5, 8, 12, 17, 25, 35, 50]  # Przykładowe zakresy prędkości\n",
    "labels = [f\"{bins[i]}-{bins[i+1]} m/s\" for i in range(len(bins)-1)]\n",
    "df_srednie_dzienne['PrzedzialPredkosci'] = pd.cut(df_srednie_dzienne['SredniaPredkoscWiatru'], bins=bins, labels=labels, right=False)"
   ]
  },
  {
   "cell_type": "code",
   "execution_count": 18,
   "id": "983d7d91",
   "metadata": {},
   "outputs": [],
   "source": [
    "df_temp_daily = (\n",
    "    df_depesze\n",
    "      .groupby('Data', as_index=False)['TemperaturaPowietrza']\n",
    "      .mean()\n",
    "      .rename(columns={'TemperaturaPowietrza': 'SredniaTemp'})\n",
    ")\n"
   ]
  },
  {
   "cell_type": "code",
   "execution_count": 19,
   "id": "9cdf099c",
   "metadata": {},
   "outputs": [
    {
     "data": {
      "text/html": [
       "<div>\n",
       "<style scoped>\n",
       "    .dataframe tbody tr th:only-of-type {\n",
       "        vertical-align: middle;\n",
       "    }\n",
       "\n",
       "    .dataframe tbody tr th {\n",
       "        vertical-align: top;\n",
       "    }\n",
       "\n",
       "    .dataframe thead th {\n",
       "        text-align: right;\n",
       "    }\n",
       "</style>\n",
       "<table border=\"1\" class=\"dataframe\">\n",
       "  <thead>\n",
       "    <tr style=\"text-align: right;\">\n",
       "      <th></th>\n",
       "      <th>Data</th>\n",
       "      <th>SredniaTemp</th>\n",
       "    </tr>\n",
       "  </thead>\n",
       "  <tbody>\n",
       "    <tr>\n",
       "      <th>0</th>\n",
       "      <td>2024-01-01</td>\n",
       "      <td>3.033969</td>\n",
       "    </tr>\n",
       "    <tr>\n",
       "      <th>1</th>\n",
       "      <td>2024-01-02</td>\n",
       "      <td>2.764544</td>\n",
       "    </tr>\n",
       "    <tr>\n",
       "      <th>2</th>\n",
       "      <td>2024-01-03</td>\n",
       "      <td>4.085300</td>\n",
       "    </tr>\n",
       "    <tr>\n",
       "      <th>3</th>\n",
       "      <td>2024-01-04</td>\n",
       "      <td>2.640575</td>\n",
       "    </tr>\n",
       "    <tr>\n",
       "      <th>4</th>\n",
       "      <td>2024-01-05</td>\n",
       "      <td>-1.219833</td>\n",
       "    </tr>\n",
       "  </tbody>\n",
       "</table>\n",
       "</div>"
      ],
      "text/plain": [
       "         Data  SredniaTemp\n",
       "0  2024-01-01     3.033969\n",
       "1  2024-01-02     2.764544\n",
       "2  2024-01-03     4.085300\n",
       "3  2024-01-04     2.640575\n",
       "4  2024-01-05    -1.219833"
      ]
     },
     "execution_count": 19,
     "metadata": {},
     "output_type": "execute_result"
    }
   ],
   "source": [
    "df_temp_daily.head()"
   ]
  },
  {
   "cell_type": "code",
   "execution_count": null,
   "id": "6704c768",
   "metadata": {},
   "outputs": [],
   "source": [
    "\n",
    "fig = px.scatter_polar(\n",
    "    df_grouped,\n",
    "    r='Czestosc',                 # Promień – liczba wystąpień\n",
    "    theta='KierunekWiatru',       # Kierunek wiatru (stopnie lub kategoria)\n",
    "    color='PrzedzialPredkosci',   # Kolor odpowiada przedziałowi prędkości\n",
    "    animation_frame='Data',       # Każda ramka animacji to inny dzień\n",
    "    hover_data=['SredniaTemp'],   # Dodatkowo w dymku pokazujemy np. średnią temp.\n",
    "    color_discrete_sequence=px.colors.sequential.Plasma_r,\n",
    "    start_angle=90,               # 90 st. na górze (północ)\n",
    "    direction='clockwise',\n",
    "    title=\"Dzienne rozkłady wiatru (róża wiatrów z animacją)\"\n",
    ")\n",
    "\n",
    "\n",
    "fig.update_layout(\n",
    "    polar=dict(\n",
    "        radialaxis=dict(showticklabels=True, ticks=''),\n",
    "        angularaxis=dict(direction='clockwise')\n",
    "    ),\n",
    "    legend_title_text=\"Prędkość wiatru\",\n",
    "    width=800,\n",
    "    height=700\n",
    ")\n",
    "\n",
    "fig.show()\n"
   ]
  },
  {
   "cell_type": "code",
   "execution_count": null,
   "id": "261e1058",
   "metadata": {},
   "outputs": [],
   "source": [
    "fig.show()"
   ]
  }
 ],
 "metadata": {
  "kernelspec": {
   "display_name": "base",
   "language": "python",
   "name": "python3"
  },
  "language_info": {
   "codemirror_mode": {
    "name": "ipython",
    "version": 3
   },
   "file_extension": ".py",
   "mimetype": "text/x-python",
   "name": "python",
   "nbconvert_exporter": "python",
   "pygments_lexer": "ipython3",
   "version": "3.10.16"
  }
 },
 "nbformat": 4,
 "nbformat_minor": 5
}
