{
 "cells": [
  {
   "cell_type": "markdown",
   "id": "f52dc7ac",
   "metadata": {},
   "source": [
    "# Wizualizacja interaktywna"
   ]
  },
  {
   "cell_type": "code",
   "execution_count": null,
   "id": "e4d2ee91",
   "metadata": {
    "vscode": {
     "languageId": "plaintext"
    }
   },
   "outputs": [],
   "source": []
  }
 ],
 "metadata": {
  "language_info": {
   "name": "python"
  }
 },
 "nbformat": 4,
 "nbformat_minor": 5
}
