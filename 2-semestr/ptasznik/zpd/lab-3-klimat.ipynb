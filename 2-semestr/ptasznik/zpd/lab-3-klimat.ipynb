{
 "cells": [
  {
   "cell_type": "markdown",
   "metadata": {},
   "source": [
    "# Laboratorium Nr 3\n",
    "Zadaniem dla zespołów jest przeprowadzenie analizy danych i próba odpowiedzi na pytanie:„Czy na podstawie danych z ostatnich 24 lat można wyciągnąć wnioski na temat ocieplenia klimatu?”"
   ]
  },
  {
   "cell_type": "code",
   "execution_count": 132,
   "metadata": {},
   "outputs": [],
   "source": [
    "import pandas as pd\n",
    "import numpy as np\n",
    "import matplotlib.pyplot as plt\n",
    "import seaborn as sns\n",
    "import os\n",
    "from dotenv import load_dotenv\n",
    "import pyodbc\n",
    "from sqlalchemy import create_engine, text\n",
    "from scipy.stats import linregress"
   ]
  },
  {
   "cell_type": "markdown",
   "metadata": {},
   "source": [
    "## Przygotowanie danych"
   ]
  },
  {
   "cell_type": "code",
   "execution_count": 133,
   "metadata": {},
   "outputs": [
    {
     "data": {
      "text/plain": [
       "True"
      ]
     },
     "execution_count": 133,
     "metadata": {},
     "output_type": "execute_result"
    }
   ],
   "source": [
    "load_dotenv()"
   ]
  },
  {
   "cell_type": "code",
   "execution_count": 134,
   "metadata": {},
   "outputs": [],
   "source": [
    "\n",
    "login = os.getenv(\"LOGIN\")\n",
    "password = os.getenv(\"PASSWORD\")\n",
    "db_host = os.getenv(\"DB_HOST\")\n",
    "port = os.getenv(\"PORT\")\n",
    "database = os.getenv(\"DB_NAME\")"
   ]
  },
  {
   "cell_type": "code",
   "execution_count": 135,
   "metadata": {},
   "outputs": [
    {
     "name": "stdout",
     "output_type": "stream",
     "text": [
      "Synop\n"
     ]
    }
   ],
   "source": [
    "print(database)"
   ]
  },
  {
   "cell_type": "code",
   "execution_count": 136,
   "metadata": {},
   "outputs": [],
   "source": [
    "conn_str = (\n",
    "    f\"mssql+pyodbc://{login}:{password}@{db_host},{port}/{database}\"\n",
    "    \"?driver=ODBC+Driver+17+for+SQL+Server\"\n",
    ")\n"
   ]
  },
  {
   "cell_type": "code",
   "execution_count": 137,
   "metadata": {},
   "outputs": [],
   "source": [
    "engine = create_engine(conn_str)"
   ]
  },
  {
   "cell_type": "code",
   "execution_count": 138,
   "metadata": {},
   "outputs": [],
   "source": [
    "query = text(\"\"\"\n",
    "        SELECT TOP 200 *\n",
    "        FROM Synop.dbo.Depesze as d\n",
    "    \"\"\")\n",
    "\n"
   ]
  },
  {
   "cell_type": "code",
   "execution_count": 139,
   "metadata": {},
   "outputs": [],
   "source": [
    "\n",
    "with engine.connect() as conn:\n",
    "    df = pd.read_sql(query, conn)"
   ]
  },
  {
   "cell_type": "code",
   "execution_count": 146,
   "metadata": {},
   "outputs": [
    {
     "name": "stdout",
     "output_type": "stream",
     "text": [
      "   IDDepeszy  Stacja        Data   Godzina  \\\n",
      "0          1   12100  1999-03-18  09:00:00   \n",
      "1          2   12105  1999-03-18  09:00:00   \n",
      "2          3   12115  1999-03-18  09:00:00   \n",
      "3          4   12120  1999-03-18  09:00:00   \n",
      "4          5   12125  1999-03-18  09:00:00   \n",
      "\n",
      "                                             Depesza  WysokoscPodstawyChmur  \\\n",
      "0  AAXX 18091 12100 42960 21803 10055 21011 30275...                   9999   \n",
      "1  AAXX 18091 12105 41940 31502 10046 21005 30242...                   9999   \n",
      "2  AAXX 18091 12115 41596 71903 10037 21005 30274...                    600   \n",
      "3  AAXX 18091 12120 42997 71903 10041 21011 30284...                   9999   \n",
      "4  AAXX 18091 12125 42997 61401 10054 21004 30240...                   9999   \n",
      "\n",
      "   Widzialnosc  WielkoscZachmurzenia  KierunekWiatru  PredkoscWiatru  ...  \\\n",
      "0        10000                     2             180               3  ...   \n",
      "1         4000                     3             150               2  ...   \n",
      "2         4000                     7             190               3  ...   \n",
      "3        10000                     7             190               3  ...   \n",
      "4        10000                     6             140               1  ...   \n",
      "\n",
      "   CzyDeszcz  CzySnieg  CzyOpadMarznacy  CzyPrzelotny  CzyBurza  CzyZamiec  \\\n",
      "0      False     False            False         False     False      False   \n",
      "1      False     False            False         False     False      False   \n",
      "2      False     False            False         False     False      False   \n",
      "3      False     False            False         False     False      False   \n",
      "4      False     False            False         False     False      False   \n",
      "\n",
      "                                          StacjaData  Godz  idstacji  \\\n",
      "0  b'\\xbcTis\\x8d\\xaf\\xecV\\x91\\xa4\\xa2\\x85\\x9c\\x85...     9     12100   \n",
      "1  b'\\xb9\\x8d\\xa0\\xe5\\xc5\\x12\\xf02^\\x99\\x85Mj\\x02...     9     12105   \n",
      "2  b'\\xde\\xb6\\x99i\\xaa\\x14\\xa1\\xa1\\xaa\\xb38U\\x7f\\...     9     12115   \n",
      "3  b'\\xefy3\\xeb\\x91\\x15\\x03\\x85\\xf1\\xadBY\\xc3b\\xa...     9     12120   \n",
      "4  b'M\\xc9{\\xb4Wg\\xb7+.\\xd9\\xb2\\xfc\\xcaU\\xce\\x84\\...     9     12125   \n",
      "\n",
      "                 Czas  \n",
      "0 1999-03-18 09:00:00  \n",
      "1 1999-03-18 09:00:00  \n",
      "2 1999-03-18 09:00:00  \n",
      "3 1999-03-18 09:00:00  \n",
      "4 1999-03-18 09:00:00  \n",
      "\n",
      "[5 rows x 35 columns]\n"
     ]
    }
   ],
   "source": [
    "print(df.head(5))\n"
   ]
  },
  {
   "cell_type": "code",
   "execution_count": 144,
   "metadata": {},
   "outputs": [
    {
     "name": "stdout",
     "output_type": "stream",
     "text": [
      "<class 'pandas.core.frame.DataFrame'>\n",
      "RangeIndex: 200 entries, 0 to 199\n",
      "Data columns (total 35 columns):\n",
      " #   Column                        Non-Null Count  Dtype         \n",
      "---  ------                        --------------  -----         \n",
      " 0   IDDepeszy                     200 non-null    int64         \n",
      " 1   Stacja                        200 non-null    int64         \n",
      " 2   Data                          200 non-null    object        \n",
      " 3   Godzina                       200 non-null    object        \n",
      " 4   Depesza                       200 non-null    object        \n",
      " 5   WysokoscPodstawyChmur         200 non-null    int64         \n",
      " 6   Widzialnosc                   200 non-null    int64         \n",
      " 7   WielkoscZachmurzenia          200 non-null    int64         \n",
      " 8   KierunekWiatru                200 non-null    int64         \n",
      " 9   PredkoscWiatru                200 non-null    int64         \n",
      " 10  TemperaturaPowietrza          200 non-null    float64       \n",
      " 11  TemperaturaPunktuRosy         200 non-null    float64       \n",
      " 12  CisnienieNaPoziomieStacji     200 non-null    float64       \n",
      " 13  CisnienieNaPoziomieMorza      200 non-null    float64       \n",
      " 14  ID_TendencjiCisnienia         200 non-null    int64         \n",
      " 15  WielkoscTendencjiCisnienia    200 non-null    float64       \n",
      " 16  WysokoscOpadu                 200 non-null    float64       \n",
      " 17  OkresPomiaruOpadu             200 non-null    int64         \n",
      " 18  ID_PogodyBiezacej             200 non-null    int64         \n",
      " 19  WielkoscZachmurzeniaNiskiego  200 non-null    int64         \n",
      " 20  ID_ChmurNiskich               200 non-null    int64         \n",
      " 21  ID_ChmurSrednich              200 non-null    int64         \n",
      " 22  ID_ChmurWysokich              200 non-null    int64         \n",
      " 23  CzyMgla                       200 non-null    bool          \n",
      " 24  CzyMzawka                     200 non-null    bool          \n",
      " 25  CzyDeszcz                     200 non-null    bool          \n",
      " 26  CzySnieg                      200 non-null    bool          \n",
      " 27  CzyOpadMarznacy               200 non-null    bool          \n",
      " 28  CzyPrzelotny                  200 non-null    bool          \n",
      " 29  CzyBurza                      200 non-null    bool          \n",
      " 30  CzyZamiec                     200 non-null    bool          \n",
      " 31  StacjaData                    200 non-null    object        \n",
      " 32  Godz                          200 non-null    int64         \n",
      " 33  idstacji                      200 non-null    int64         \n",
      " 34  Czas                          200 non-null    datetime64[ns]\n",
      "dtypes: bool(8), datetime64[ns](1), float64(6), int64(16), object(4)\n",
      "memory usage: 43.9+ KB\n",
      "None\n"
     ]
    }
   ],
   "source": [
    "print(df.info())"
   ]
  },
  {
   "cell_type": "code",
   "execution_count": 143,
   "metadata": {},
   "outputs": [
    {
     "name": "stdout",
     "output_type": "stream",
     "text": [
      "        IDDepeszy        Stacja  WysokoscPodstawyChmur   Widzialnosc  \\\n",
      "count  200.000000    200.000000              200.00000    200.000000   \n",
      "mean   100.500000  12377.635000             4097.13000  14660.500000   \n",
      "min      1.000000  12100.000000                0.00000     25.000000   \n",
      "25%     50.750000  12233.750000              600.00000  10000.000000   \n",
      "50%    100.500000  12385.000000             1000.00000  10000.000000   \n",
      "75%    150.250000  12500.000000             9999.00000  20000.000000   \n",
      "max    200.000000  12695.000000             9999.00000  50000.000000   \n",
      "std     57.879185    167.292846             4538.83036   9193.058256   \n",
      "\n",
      "       WielkoscZachmurzenia  KierunekWiatru  PredkoscWiatru  \\\n",
      "count            200.000000      200.000000      200.000000   \n",
      "mean               4.225000      143.400000        3.715000   \n",
      "min                0.000000        0.000000        0.000000   \n",
      "25%                1.000000      100.000000        2.000000   \n",
      "50%                5.000000      140.000000        3.000000   \n",
      "75%                7.000000      190.000000        5.000000   \n",
      "max                8.000000      360.000000       28.000000   \n",
      "std                3.014934       64.437574        2.593726   \n",
      "\n",
      "       TemperaturaPowietrza  TemperaturaPunktuRosy  CisnienieNaPoziomieStacji  \\\n",
      "count            200.000000             200.000000                 200.000000   \n",
      "mean               8.195500               2.197500                 987.480500   \n",
      "min               -5.900000             -12.200000                 782.700000   \n",
      "25%                2.900000              -1.825000                 980.950000   \n",
      "50%                6.200000               2.200000                 992.250000   \n",
      "75%               14.100000               6.425000                1006.100000   \n",
      "max               19.200000              10.900000                1029.500000   \n",
      "std                6.521563               4.910981                  37.635442   \n",
      "\n",
      "       ...  WysokoscOpadu  OkresPomiaruOpadu  ID_PogodyBiezacej  \\\n",
      "count  ...     200.000000         200.000000         200.000000   \n",
      "mean   ...       0.012000           0.180000           5.770000   \n",
      "min    ...       0.000000           0.000000           0.000000   \n",
      "25%    ...       0.000000           0.000000           0.000000   \n",
      "50%    ...       0.000000           0.000000           0.000000   \n",
      "75%    ...       0.000000           0.000000           3.000000   \n",
      "max    ...       2.000000           6.000000          87.000000   \n",
      "std    ...       0.143032           1.026092          15.411511   \n",
      "\n",
      "       WielkoscZachmurzeniaNiskiego  ID_ChmurNiskich  ID_ChmurSrednich  \\\n",
      "count                    200.000000       200.000000        200.000000   \n",
      "mean                       2.825000         2.100000          0.805000   \n",
      "min                        0.000000         0.000000          0.000000   \n",
      "25%                        0.000000         0.000000          0.000000   \n",
      "50%                        2.000000         2.000000          0.000000   \n",
      "75%                        5.000000         3.000000          0.000000   \n",
      "max                        8.000000         9.000000          7.000000   \n",
      "std                        2.586081         2.612302          1.726813   \n",
      "\n",
      "       ID_ChmurWysokich      Godz      idstacji                           Czas  \n",
      "count        200.000000  200.0000    200.000000                            200  \n",
      "mean           1.505000   12.9150  12377.635000  1999-04-08 08:28:29.999999872  \n",
      "min            0.000000    9.0000  12100.000000            1999-03-18 09:00:00  \n",
      "25%            0.000000    9.0000  12233.750000            1999-03-18 09:00:00  \n",
      "50%            0.000000   11.0000  12385.000000            1999-04-13 11:00:00  \n",
      "75%            2.000000   12.0000  12500.000000            1999-04-14 21:00:00  \n",
      "max            9.000000   21.0000  12695.000000            1999-04-24 12:00:00  \n",
      "std            2.688142    4.5631    167.292846                            NaN  \n",
      "\n",
      "[8 rows x 23 columns]\n"
     ]
    }
   ],
   "source": [
    "print(df.describe())"
   ]
  },
  {
   "cell_type": "code",
   "execution_count": 141,
   "metadata": {},
   "outputs": [
    {
     "name": "stdout",
     "output_type": "stream",
     "text": [
      "Missing values:\n",
      " IDDepeszy                       0\n",
      "Stacja                          0\n",
      "Data                            0\n",
      "Godzina                         0\n",
      "Depesza                         0\n",
      "WysokoscPodstawyChmur           0\n",
      "Widzialnosc                     0\n",
      "WielkoscZachmurzenia            0\n",
      "KierunekWiatru                  0\n",
      "PredkoscWiatru                  0\n",
      "TemperaturaPowietrza            0\n",
      "TemperaturaPunktuRosy           0\n",
      "CisnienieNaPoziomieStacji       0\n",
      "CisnienieNaPoziomieMorza        0\n",
      "ID_TendencjiCisnienia           0\n",
      "WielkoscTendencjiCisnienia      0\n",
      "WysokoscOpadu                   0\n",
      "OkresPomiaruOpadu               0\n",
      "ID_PogodyBiezacej               0\n",
      "WielkoscZachmurzeniaNiskiego    0\n",
      "ID_ChmurNiskich                 0\n",
      "ID_ChmurSrednich                0\n",
      "ID_ChmurWysokich                0\n",
      "CzyMgla                         0\n",
      "CzyMzawka                       0\n",
      "CzyDeszcz                       0\n",
      "CzySnieg                        0\n",
      "CzyOpadMarznacy                 0\n",
      "CzyPrzelotny                    0\n",
      "CzyBurza                        0\n",
      "CzyZamiec                       0\n",
      "StacjaData                      0\n",
      "Godz                            0\n",
      "idstacji                        0\n",
      "Czas                            0\n",
      "dtype: int64\n"
     ]
    }
   ],
   "source": [
    "missing_values = df.isnull().sum()\n",
    "print(\"Missing values:\\n\", missing_values)"
   ]
  },
  {
   "cell_type": "code",
   "execution_count": 142,
   "metadata": {},
   "outputs": [
    {
     "ename": "KeyError",
     "evalue": "'temp'",
     "output_type": "error",
     "traceback": [
      "\u001b[0;31m---------------------------------------------------------------------------\u001b[0m",
      "\u001b[0;31mKeyError\u001b[0m                                  Traceback (most recent call last)",
      "File \u001b[0;32m~/anaconda3/lib/python3.10/site-packages/pandas/core/indexes/base.py:3805\u001b[0m, in \u001b[0;36mIndex.get_loc\u001b[0;34m(self, key)\u001b[0m\n\u001b[1;32m   3804\u001b[0m \u001b[38;5;28;01mtry\u001b[39;00m:\n\u001b[0;32m-> 3805\u001b[0m     \u001b[38;5;28;01mreturn\u001b[39;00m \u001b[38;5;28;43mself\u001b[39;49m\u001b[38;5;241;43m.\u001b[39;49m\u001b[43m_engine\u001b[49m\u001b[38;5;241;43m.\u001b[39;49m\u001b[43mget_loc\u001b[49m\u001b[43m(\u001b[49m\u001b[43mcasted_key\u001b[49m\u001b[43m)\u001b[49m\n\u001b[1;32m   3806\u001b[0m \u001b[38;5;28;01mexcept\u001b[39;00m \u001b[38;5;167;01mKeyError\u001b[39;00m \u001b[38;5;28;01mas\u001b[39;00m err:\n",
      "File \u001b[0;32mindex.pyx:167\u001b[0m, in \u001b[0;36mpandas._libs.index.IndexEngine.get_loc\u001b[0;34m()\u001b[0m\n",
      "File \u001b[0;32mindex.pyx:196\u001b[0m, in \u001b[0;36mpandas._libs.index.IndexEngine.get_loc\u001b[0;34m()\u001b[0m\n",
      "File \u001b[0;32mpandas/_libs/hashtable_class_helper.pxi:7081\u001b[0m, in \u001b[0;36mpandas._libs.hashtable.PyObjectHashTable.get_item\u001b[0;34m()\u001b[0m\n",
      "File \u001b[0;32mpandas/_libs/hashtable_class_helper.pxi:7089\u001b[0m, in \u001b[0;36mpandas._libs.hashtable.PyObjectHashTable.get_item\u001b[0;34m()\u001b[0m\n",
      "\u001b[0;31mKeyError\u001b[0m: 'temp'",
      "\nThe above exception was the direct cause of the following exception:\n",
      "\u001b[0;31mKeyError\u001b[0m                                  Traceback (most recent call last)",
      "Cell \u001b[0;32mIn[142], line 1\u001b[0m\n\u001b[0;32m----> 1\u001b[0m df \u001b[38;5;241m=\u001b[39m df[(\u001b[43mdf\u001b[49m\u001b[43m[\u001b[49m\u001b[38;5;124;43m\"\u001b[39;49m\u001b[38;5;124;43mtemp\u001b[39;49m\u001b[38;5;124;43m\"\u001b[39;49m\u001b[43m]\u001b[49m \u001b[38;5;241m>\u001b[39m \u001b[38;5;241m-\u001b[39m\u001b[38;5;241m40\u001b[39m) \u001b[38;5;241m&\u001b[39m (df[\u001b[38;5;124m\"\u001b[39m\u001b[38;5;124mtemp\u001b[39m\u001b[38;5;124m\"\u001b[39m] \u001b[38;5;241m<\u001b[39m \u001b[38;5;241m50\u001b[39m)]\n\u001b[1;32m      2\u001b[0m df[\u001b[38;5;124m\"\u001b[39m\u001b[38;5;124mrok\u001b[39m\u001b[38;5;124m\"\u001b[39m] \u001b[38;5;241m=\u001b[39m df[\u001b[38;5;124m\"\u001b[39m\u001b[38;5;124mdata_pomiaru\u001b[39m\u001b[38;5;124m\"\u001b[39m]\u001b[38;5;241m.\u001b[39mdt\u001b[38;5;241m.\u001b[39myear\n\u001b[1;32m      3\u001b[0m df[\u001b[38;5;124m\"\u001b[39m\u001b[38;5;124mmiesiac\u001b[39m\u001b[38;5;124m\"\u001b[39m] \u001b[38;5;241m=\u001b[39m df[\u001b[38;5;124m\"\u001b[39m\u001b[38;5;124mdata_pomiaru\u001b[39m\u001b[38;5;124m\"\u001b[39m]\u001b[38;5;241m.\u001b[39mdt\u001b[38;5;241m.\u001b[39mmonth\n",
      "File \u001b[0;32m~/anaconda3/lib/python3.10/site-packages/pandas/core/frame.py:4102\u001b[0m, in \u001b[0;36mDataFrame.__getitem__\u001b[0;34m(self, key)\u001b[0m\n\u001b[1;32m   4100\u001b[0m \u001b[38;5;28;01mif\u001b[39;00m \u001b[38;5;28mself\u001b[39m\u001b[38;5;241m.\u001b[39mcolumns\u001b[38;5;241m.\u001b[39mnlevels \u001b[38;5;241m>\u001b[39m \u001b[38;5;241m1\u001b[39m:\n\u001b[1;32m   4101\u001b[0m     \u001b[38;5;28;01mreturn\u001b[39;00m \u001b[38;5;28mself\u001b[39m\u001b[38;5;241m.\u001b[39m_getitem_multilevel(key)\n\u001b[0;32m-> 4102\u001b[0m indexer \u001b[38;5;241m=\u001b[39m \u001b[38;5;28;43mself\u001b[39;49m\u001b[38;5;241;43m.\u001b[39;49m\u001b[43mcolumns\u001b[49m\u001b[38;5;241;43m.\u001b[39;49m\u001b[43mget_loc\u001b[49m\u001b[43m(\u001b[49m\u001b[43mkey\u001b[49m\u001b[43m)\u001b[49m\n\u001b[1;32m   4103\u001b[0m \u001b[38;5;28;01mif\u001b[39;00m is_integer(indexer):\n\u001b[1;32m   4104\u001b[0m     indexer \u001b[38;5;241m=\u001b[39m [indexer]\n",
      "File \u001b[0;32m~/anaconda3/lib/python3.10/site-packages/pandas/core/indexes/base.py:3812\u001b[0m, in \u001b[0;36mIndex.get_loc\u001b[0;34m(self, key)\u001b[0m\n\u001b[1;32m   3807\u001b[0m     \u001b[38;5;28;01mif\u001b[39;00m \u001b[38;5;28misinstance\u001b[39m(casted_key, \u001b[38;5;28mslice\u001b[39m) \u001b[38;5;129;01mor\u001b[39;00m (\n\u001b[1;32m   3808\u001b[0m         \u001b[38;5;28misinstance\u001b[39m(casted_key, abc\u001b[38;5;241m.\u001b[39mIterable)\n\u001b[1;32m   3809\u001b[0m         \u001b[38;5;129;01mand\u001b[39;00m \u001b[38;5;28many\u001b[39m(\u001b[38;5;28misinstance\u001b[39m(x, \u001b[38;5;28mslice\u001b[39m) \u001b[38;5;28;01mfor\u001b[39;00m x \u001b[38;5;129;01min\u001b[39;00m casted_key)\n\u001b[1;32m   3810\u001b[0m     ):\n\u001b[1;32m   3811\u001b[0m         \u001b[38;5;28;01mraise\u001b[39;00m InvalidIndexError(key)\n\u001b[0;32m-> 3812\u001b[0m     \u001b[38;5;28;01mraise\u001b[39;00m \u001b[38;5;167;01mKeyError\u001b[39;00m(key) \u001b[38;5;28;01mfrom\u001b[39;00m \u001b[38;5;21;01merr\u001b[39;00m\n\u001b[1;32m   3813\u001b[0m \u001b[38;5;28;01mexcept\u001b[39;00m \u001b[38;5;167;01mTypeError\u001b[39;00m:\n\u001b[1;32m   3814\u001b[0m     \u001b[38;5;66;03m# If we have a listlike key, _check_indexing_error will raise\u001b[39;00m\n\u001b[1;32m   3815\u001b[0m     \u001b[38;5;66;03m#  InvalidIndexError. Otherwise we fall through and re-raise\u001b[39;00m\n\u001b[1;32m   3816\u001b[0m     \u001b[38;5;66;03m#  the TypeError.\u001b[39;00m\n\u001b[1;32m   3817\u001b[0m     \u001b[38;5;28mself\u001b[39m\u001b[38;5;241m.\u001b[39m_check_indexing_error(key)\n",
      "\u001b[0;31mKeyError\u001b[0m: 'temp'"
     ]
    }
   ],
   "source": [
    "df = df[(df[\"temp\"] > -40) & (df[\"temp\"] < 50)]\n",
    "df[\"rok\"] = df[\"data_pomiaru\"].dt.year\n",
    "df[\"miesiac\"] = df[\"data_pomiaru\"].dt.month\n",
    "df[\"dzien\"] = df[\"data_pomiaru\"].dt.day\n",
    "df[\"godzina\"] = df[\"data_pomiaru\"].dt.hour"
   ]
  },
  {
   "cell_type": "code",
   "execution_count": null,
   "metadata": {},
   "outputs": [],
   "source": [
    "annual_mean = df.groupby([\"rok\", \"nazwa_stacji\"])[\"temp\"].mean().reset_index()\n",
    "annual_mean.rename(columns={\"temp\": \"srednia_temp\"}, inplace=True)\n",
    "annual_mean_all = df.groupby(\"rok\")[\"temp\"].mean().reset_index()\n",
    "annual_mean_all.rename(columns={\"temp\": \"srednia_temp\"}, inplace=True)"
   ]
  },
  {
   "cell_type": "markdown",
   "metadata": {},
   "source": [
    "## Wizualizacja"
   ]
  },
  {
   "cell_type": "code",
   "execution_count": null,
   "metadata": {},
   "outputs": [],
   "source": [
    "sns.set_theme(style=\"whitegrid\")\n",
    "plt.rcParams[\"figure.figsize\"] = (12, 6)"
   ]
  },
  {
   "cell_type": "markdown",
   "metadata": {},
   "source": [
    "### Trend roczny (wszystkie stacje łącznie)"
   ]
  },
  {
   "cell_type": "code",
   "execution_count": null,
   "metadata": {},
   "outputs": [],
   "source": [
    "\n",
    "plt.figure(figsize=(12, 6))\n",
    "sns.lineplot(data=annual_mean_all, x=\"rok\", y=\"srednia_temp\", marker=\"o\")\n",
    "plt.title(\"Średnia roczna temperatura (2000-2023) - wszystkie stacje\")\n",
    "plt.xlabel(\"Rok\")\n",
    "plt.ylabel(\"Średnia temperatura (°C)\")\n",
    "plt.show()"
   ]
  },
  {
   "cell_type": "markdown",
   "metadata": {},
   "source": [
    "### Trend roczny z podziałem na stacje\n"
   ]
  },
  {
   "cell_type": "code",
   "execution_count": null,
   "metadata": {},
   "outputs": [],
   "source": [
    "plt.figure(figsize=(12, 6))\n",
    "sns.lineplot(data=annual_mean, x=\"rok\", y=\"srednia_temp\", hue=\"nazwa_stacji\", marker=\"o\")\n",
    "plt.title(\"Średnia roczna temperatura z podziałem na stacje (2000-2023)\")\n",
    "plt.xlabel(\"Rok\")\n",
    "plt.ylabel(\"Średnia temperatura (°C)\")\n",
    "plt.legend(title=\"Stacja\")\n",
    "plt.show()"
   ]
  },
  {
   "cell_type": "markdown",
   "metadata": {},
   "source": [
    "### Boxplot roczny (rozkład temperatur w każdym roku)"
   ]
  },
  {
   "cell_type": "code",
   "execution_count": null,
   "metadata": {},
   "outputs": [],
   "source": [
    "plt.figure(figsize=(14, 6))\n",
    "sns.boxplot(data=df, x=\"rok\", y=\"temp\")\n",
    "plt.title(\"Rozkład temperatur (2000-2023)\")\n",
    "plt.xlabel(\"Rok\")\n",
    "plt.ylabel(\"Temperatura (°C)\")\n",
    "plt.xticks(rotation=45)\n",
    "plt.show()"
   ]
  },
  {
   "cell_type": "markdown",
   "metadata": {},
   "source": [
    "### Analiza trendu"
   ]
  },
  {
   "cell_type": "code",
   "execution_count": null,
   "metadata": {},
   "outputs": [],
   "source": [
    "annual_temp_series = annual_mean_all[\"srednia_temp\"].values\n",
    "years = annual_mean_all[\"rok\"].values"
   ]
  },
  {
   "cell_type": "code",
   "execution_count": null,
   "metadata": {},
   "outputs": [],
   "source": [
    "slope, intercept, r_value, p_value, std_err = linregress(years, annual_temp_series)\n",
    "print(f\"Slope (wzrost średniej temperatury na rok): {slope:.3f} °C/rok\")\n",
    "print(f\"Intercept: {intercept:.3f} °C\")\n",
    "print(f\"r-value: {r_value:.3f}, r^2: {r_value**2:.3f}\")\n",
    "print(f\"p-value: {p_value:.5f}, std_err: {std_err:.3f}\")"
   ]
  }
 ],
 "metadata": {
  "kernelspec": {
   "display_name": "base",
   "language": "python",
   "name": "python3"
  },
  "language_info": {
   "codemirror_mode": {
    "name": "ipython",
    "version": 3
   },
   "file_extension": ".py",
   "mimetype": "text/x-python",
   "name": "python",
   "nbconvert_exporter": "python",
   "pygments_lexer": "ipython3",
   "version": "3.10.16"
  }
 },
 "nbformat": 4,
 "nbformat_minor": 2
}
